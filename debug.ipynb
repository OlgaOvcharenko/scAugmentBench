{
 "cells": [
  {
   "cell_type": "code",
   "execution_count": 23,
   "metadata": {},
   "outputs": [],
   "source": [
    "import logging\n",
    "import os\n",
    "import pathlib\n",
    "import time\n",
    "\n",
    "import hydra\n",
    "from omegaconf import DictConfig\n",
    "from collections.abc import MutableMapping\n",
    "import wandb\n",
    "\n",
    "import scanpy as sc\n",
    "import pandas as pd\n",
    "\n",
    "from trainer import train_model\n",
    "from evaluator import evaluate_model\n",
    "from data.graph_augmentation_prep import *\n",
    "from data.dataset import OurDataset\n",
    "from data.augmentations import * #get_transforms, augmentations\n",
    "from data.graph_augmentation_prep import * # builders for mnn and bbknn augmentation.\n",
    "\n",
    "import torch\n",
    "import torch.backends.cudnn as cudnn\n",
    "from torchvision.transforms import Compose\n",
    "import numpy as np\n",
    "import random\n",
    "import lightning as pl\n",
    "\n",
    "import yaml\n",
    "\n",
    "_LOGGER = logging.getLogger(__name__)\n",
    "with open(\"/local/home/tomap/scAugmentBench/conf/augmentation/clear_pipeline.yaml\") as stream:\n",
    "    cfg_aug = yaml.safe_load(stream)\n",
    "with open(\"/local/home/tomap/scAugmentBench/conf/data/immune.yaml\") as stream:\n",
    "#with open(\"/local/home/tomap/scAugmentBench/conf/data/pbmc_2_donor.yaml\") as stream:\n",
    "    cfg_data = yaml.safe_load(stream)\n",
    "with open(\"/local/home/tomap/scAugmentBench/conf/model/simclr.yaml\") as stream:\n",
    "    cfg_model = yaml.safe_load(stream)\n",
    "\n",
    "cfg = {}\n",
    "cfg['data'] = cfg_data\n",
    "cfg['data']['n_hvgs'] = 4000\n",
    "cfg['model'] = cfg_model\n",
    "cfg['model']['in_dim'] = 4000\n",
    "cfg['augmentation'] = cfg_aug"
   ]
  },
  {
   "cell_type": "code",
   "execution_count": 24,
   "metadata": {},
   "outputs": [
    {
     "name": "stderr",
     "output_type": "stream",
     "text": [
      "/local/home/tomap/miniconda3/envs/pytorch_env/lib/python3.10/site-packages/scanpy/preprocessing/_highly_variable_genes.py:220: FutureWarning: The default of observed=False is deprecated and will be changed to True in a future version of pandas. Pass observed=False to retain current behavior or observed=True to adopt the future default and silence this warning.\n",
      "  disp_grouped = df.groupby('mean_bin')['dispersions']\n",
      "/local/home/tomap/miniconda3/envs/pytorch_env/lib/python3.10/site-packages/scanpy/preprocessing/_highly_variable_genes.py:489: FutureWarning: The behavior of DataFrame concatenation with empty or all-NA entries is deprecated. In a future version, this will no longer exclude empty or all-NA columns when determining the result dtypes. To retain the old behavior, exclude the relevant entries before the concat operation.\n",
      "  hvg = pd.concat([hvg, missing_hvg], ignore_index=True)\n",
      "/local/home/tomap/miniconda3/envs/pytorch_env/lib/python3.10/site-packages/scanpy/preprocessing/_highly_variable_genes.py:220: FutureWarning: The default of observed=False is deprecated and will be changed to True in a future version of pandas. Pass observed=False to retain current behavior or observed=True to adopt the future default and silence this warning.\n",
      "  disp_grouped = df.groupby('mean_bin')['dispersions']\n",
      "/local/home/tomap/miniconda3/envs/pytorch_env/lib/python3.10/site-packages/scanpy/preprocessing/_highly_variable_genes.py:489: FutureWarning: The behavior of DataFrame concatenation with empty or all-NA entries is deprecated. In a future version, this will no longer exclude empty or all-NA columns when determining the result dtypes. To retain the old behavior, exclude the relevant entries before the concat operation.\n",
      "  hvg = pd.concat([hvg, missing_hvg], ignore_index=True)\n",
      "/local/home/tomap/miniconda3/envs/pytorch_env/lib/python3.10/site-packages/scanpy/preprocessing/_highly_variable_genes.py:220: FutureWarning: The default of observed=False is deprecated and will be changed to True in a future version of pandas. Pass observed=False to retain current behavior or observed=True to adopt the future default and silence this warning.\n",
      "  disp_grouped = df.groupby('mean_bin')['dispersions']\n",
      "/local/home/tomap/miniconda3/envs/pytorch_env/lib/python3.10/site-packages/scanpy/preprocessing/_highly_variable_genes.py:220: FutureWarning: The default of observed=False is deprecated and will be changed to True in a future version of pandas. Pass observed=False to retain current behavior or observed=True to adopt the future default and silence this warning.\n",
      "  disp_grouped = df.groupby('mean_bin')['dispersions']\n",
      "/local/home/tomap/miniconda3/envs/pytorch_env/lib/python3.10/site-packages/scanpy/preprocessing/_highly_variable_genes.py:220: FutureWarning: The default of observed=False is deprecated and will be changed to True in a future version of pandas. Pass observed=False to retain current behavior or observed=True to adopt the future default and silence this warning.\n",
      "  disp_grouped = df.groupby('mean_bin')['dispersions']\n",
      "/local/home/tomap/miniconda3/envs/pytorch_env/lib/python3.10/site-packages/scanpy/preprocessing/_highly_variable_genes.py:220: FutureWarning: The default of observed=False is deprecated and will be changed to True in a future version of pandas. Pass observed=False to retain current behavior or observed=True to adopt the future default and silence this warning.\n",
      "  disp_grouped = df.groupby('mean_bin')['dispersions']\n",
      "/local/home/tomap/miniconda3/envs/pytorch_env/lib/python3.10/site-packages/scanpy/preprocessing/_highly_variable_genes.py:220: FutureWarning: The default of observed=False is deprecated and will be changed to True in a future version of pandas. Pass observed=False to retain current behavior or observed=True to adopt the future default and silence this warning.\n",
      "  disp_grouped = df.groupby('mean_bin')['dispersions']\n",
      "/local/home/tomap/miniconda3/envs/pytorch_env/lib/python3.10/site-packages/scanpy/preprocessing/_highly_variable_genes.py:220: FutureWarning: The default of observed=False is deprecated and will be changed to True in a future version of pandas. Pass observed=False to retain current behavior or observed=True to adopt the future default and silence this warning.\n",
      "  disp_grouped = df.groupby('mean_bin')['dispersions']\n",
      "/local/home/tomap/miniconda3/envs/pytorch_env/lib/python3.10/site-packages/scanpy/preprocessing/_highly_variable_genes.py:220: FutureWarning: The default of observed=False is deprecated and will be changed to True in a future version of pandas. Pass observed=False to retain current behavior or observed=True to adopt the future default and silence this warning.\n",
      "  disp_grouped = df.groupby('mean_bin')['dispersions']\n",
      "/local/home/tomap/miniconda3/envs/pytorch_env/lib/python3.10/site-packages/scanpy/preprocessing/_highly_variable_genes.py:220: FutureWarning: The default of observed=False is deprecated and will be changed to True in a future version of pandas. Pass observed=False to retain current behavior or observed=True to adopt the future default and silence this warning.\n",
      "  disp_grouped = df.groupby('mean_bin')['dispersions']\n",
      "/local/home/tomap/miniconda3/envs/pytorch_env/lib/python3.10/site-packages/scanpy/preprocessing/_highly_variable_genes.py:489: FutureWarning: The behavior of DataFrame concatenation with empty or all-NA entries is deprecated. In a future version, this will no longer exclude empty or all-NA columns when determining the result dtypes. To retain the old behavior, exclude the relevant entries before the concat operation.\n",
      "  hvg = pd.concat([hvg, missing_hvg], ignore_index=True)\n",
      "/local/home/tomap/miniconda3/envs/pytorch_env/lib/python3.10/site-packages/scanpy/preprocessing/_highly_variable_genes.py:499: FutureWarning: The provided callable <function nanmean at 0x7fb1e1b19b40> is currently using SeriesGroupBy.mean. In a future version of pandas, the provided callable will be used directly. To keep current behavior pass the string \"mean\" instead.\n",
      "  df = df.groupby('gene').agg(\n",
      "/local/home/tomap/miniconda3/envs/pytorch_env/lib/python3.10/site-packages/scanpy/preprocessing/_highly_variable_genes.py:499: FutureWarning: The provided callable <function nanmean at 0x7fb1e1b19b40> is currently using SeriesGroupBy.mean. In a future version of pandas, the provided callable will be used directly. To keep current behavior pass the string \"mean\" instead.\n",
      "  df = df.groupby('gene').agg(\n",
      "/local/home/tomap/miniconda3/envs/pytorch_env/lib/python3.10/site-packages/scanpy/preprocessing/_highly_variable_genes.py:499: FutureWarning: The provided callable <function nansum at 0x7fb1e1b196c0> is currently using SeriesGroupBy.sum. In a future version of pandas, the provided callable will be used directly. To keep current behavior pass the string \"sum\" instead.\n",
      "  df = df.groupby('gene').agg(\n"
     ]
    }
   ],
   "source": [
    "from main import load_data\n",
    "\n",
    "train, val, adata = load_data(cfg)"
   ]
  },
  {
   "cell_type": "code",
   "execution_count": 3,
   "metadata": {},
   "outputs": [
    {
     "name": "stderr",
     "output_type": "stream",
     "text": [
      "GPU available: True (cuda), used: True\n",
      "TPU available: False, using: 0 TPU cores\n",
      "IPU available: False, using: 0 IPUs\n",
      "HPU available: False, using: 0 HPUs\n",
      "LOCAL_RANK: 0 - CUDA_VISIBLE_DEVICES: [0]\n",
      "\n",
      "  | Name            | Type                 | Params\n",
      "---------------------------------------------------------\n",
      "0 | backbone        | Sequential           | 512 K \n",
      "1 | projection_head | SimCLRProjectionHead | 18.2 K\n",
      "2 | criterion       | NTXentLoss           | 0     \n",
      "---------------------------------------------------------\n",
      "530 K     Trainable params\n",
      "0         Non-trainable params\n",
      "530 K     Total params\n",
      "2.122     Total estimated model params size (MB)\n"
     ]
    },
    {
     "data": {
      "application/vnd.jupyter.widget-view+json": {
       "model_id": "7771f2af28ab4ff7a7cccf651f0c01e7",
       "version_major": 2,
       "version_minor": 0
      },
      "text/plain": [
       "Training: |          | 0/? [00:00<?, ?it/s]"
      ]
     },
     "metadata": {},
     "output_type": "display_data"
    },
    {
     "name": "stderr",
     "output_type": "stream",
     "text": [
      "/local/home/tomap/miniconda3/envs/pytorch_env/lib/python3.10/site-packages/lightning/pytorch/trainer/call.py:54: Detected KeyboardInterrupt, attempting graceful shutdown...\n"
     ]
    }
   ],
   "source": [
    "import lightning as pl\n",
    "import logging\n",
    "import sys\n",
    "\n",
    "root = logging.getLogger()\n",
    "root.setLevel(logging.DEBUG)\n",
    "\n",
    "model = train_model(dataset=train, \n",
    "                        model_config=cfg[\"model\"],\n",
    "                        random_seed=0, \n",
    "                        batch_size=256,\n",
    "                        num_workers=14,\n",
    "                        n_epochs=100,\n",
    "                        logger=root)"
   ]
  },
  {
   "cell_type": "code",
   "execution_count": 11,
   "metadata": {},
   "outputs": [
    {
     "name": "stderr",
     "output_type": "stream",
     "text": [
      "Computing neighbors: 100%|██████████| 1/1 [00:05<00:00,  5.90s/it]\n",
      "Embeddings:   0%|\u001b[32m          \u001b[0m| 0/1 [00:00<?, ?it/s]/local/home/tomap/miniconda3/envs/pytorch_env/lib/python3.10/site-packages/scib_metrics/_kbet.py:181: FutureWarning: pandas.value_counts is deprecated and will be removed in a future version. Use pd.Series(obj).value_counts() instead.\n",
      "  comp_size = pd.value_counts(labs)\n",
      "/local/home/tomap/miniconda3/envs/pytorch_env/lib/python3.10/site-packages/scib_metrics/_kbet.py:181: FutureWarning: pandas.value_counts is deprecated and will be removed in a future version. Use pd.Series(obj).value_counts() instead.\n",
      "  comp_size = pd.value_counts(labs)\n",
      "/local/home/tomap/miniconda3/envs/pytorch_env/lib/python3.10/site-packages/scib_metrics/_kbet.py:181: FutureWarning: pandas.value_counts is deprecated and will be removed in a future version. Use pd.Series(obj).value_counts() instead.\n",
      "  comp_size = pd.value_counts(labs)\n",
      "/local/home/tomap/miniconda3/envs/pytorch_env/lib/python3.10/site-packages/scib_metrics/_kbet.py:181: FutureWarning: pandas.value_counts is deprecated and will be removed in a future version. Use pd.Series(obj).value_counts() instead.\n",
      "  comp_size = pd.value_counts(labs)\n",
      "/local/home/tomap/miniconda3/envs/pytorch_env/lib/python3.10/site-packages/scib_metrics/_kbet.py:181: FutureWarning: pandas.value_counts is deprecated and will be removed in a future version. Use pd.Series(obj).value_counts() instead.\n",
      "  comp_size = pd.value_counts(labs)\n",
      "/local/home/tomap/miniconda3/envs/pytorch_env/lib/python3.10/site-packages/scib_metrics/_kbet.py:181: FutureWarning: pandas.value_counts is deprecated and will be removed in a future version. Use pd.Series(obj).value_counts() instead.\n",
      "  comp_size = pd.value_counts(labs)\n",
      "/local/home/tomap/miniconda3/envs/pytorch_env/lib/python3.10/site-packages/scib_metrics/_graph_connectivity.py:30: FutureWarning: pandas.value_counts is deprecated and will be removed in a future version. Use pd.Series(obj).value_counts() instead.\n",
      "  tab = pd.value_counts(comps)\n",
      "Embeddings: 100%|\u001b[32m██████████\u001b[0m| 1/1 [00:12<00:00, 12.04s/it]\n"
     ]
    },
    {
     "data": {
      "text/html": [
       "<div>\n",
       "<style scoped>\n",
       "    .dataframe tbody tr th:only-of-type {\n",
       "        vertical-align: middle;\n",
       "    }\n",
       "\n",
       "    .dataframe tbody tr th {\n",
       "        vertical-align: top;\n",
       "    }\n",
       "\n",
       "    .dataframe thead th {\n",
       "        text-align: right;\n",
       "    }\n",
       "</style>\n",
       "<table border=\"1\" class=\"dataframe\">\n",
       "  <thead>\n",
       "    <tr style=\"text-align: right;\">\n",
       "      <th></th>\n",
       "      <th>Isolated labels</th>\n",
       "      <th>Leiden NMI</th>\n",
       "      <th>Leiden ARI</th>\n",
       "      <th>KBET</th>\n",
       "      <th>Graph connectivity</th>\n",
       "      <th>Batch correction</th>\n",
       "      <th>Bio conservation</th>\n",
       "      <th>Total</th>\n",
       "    </tr>\n",
       "    <tr>\n",
       "      <th>Embedding</th>\n",
       "      <th></th>\n",
       "      <th></th>\n",
       "      <th></th>\n",
       "      <th></th>\n",
       "      <th></th>\n",
       "      <th></th>\n",
       "      <th></th>\n",
       "      <th></th>\n",
       "    </tr>\n",
       "  </thead>\n",
       "  <tbody>\n",
       "    <tr>\n",
       "      <th>Embedding</th>\n",
       "      <td>0.641</td>\n",
       "      <td>0.772</td>\n",
       "      <td>0.671</td>\n",
       "      <td>0.332</td>\n",
       "      <td>0.859</td>\n",
       "      <td>0.595</td>\n",
       "      <td>0.695</td>\n",
       "      <td>0.655</td>\n",
       "    </tr>\n",
       "  </tbody>\n",
       "</table>\n",
       "</div>"
      ],
      "text/plain": [
       "           Isolated labels  Leiden NMI  Leiden ARI   KBET  Graph connectivity  \\\n",
       "Embedding                                                                       \n",
       "Embedding            0.641       0.772       0.671  0.332               0.859   \n",
       "\n",
       "           Batch correction  Bio conservation  Total  \n",
       "Embedding                                             \n",
       "Embedding             0.595             0.695  0.655  "
      ]
     },
     "execution_count": 11,
     "metadata": {},
     "output_type": "execute_result"
    }
   ],
   "source": [
    "from main import evaluate_model\n",
    "\n",
    "results, embedding = evaluate_model(model=model,\n",
    "                                        dataset=val,\n",
    "                                        adata=adata,\n",
    "                                        batch_size=256,\n",
    "                                        num_workers=1,)\n",
    "\n",
    "results"
   ]
  },
  {
   "cell_type": "code",
   "execution_count": 31,
   "metadata": {},
   "outputs": [
    {
     "ename": "FileNotFoundError",
     "evalue": "[Errno 2] No such file or directory: '/local/home/tomap/scAugmentBench/dimension-ablation-vol2/ImmHuman/SimSiam-128-128/128/20/embedding.npz'",
     "output_type": "error",
     "traceback": [
      "\u001b[0;31m---------------------------------------------------------------------------\u001b[0m",
      "\u001b[0;31mFileNotFoundError\u001b[0m                         Traceback (most recent call last)",
      "Cell \u001b[0;32mIn[31], line 12\u001b[0m\n\u001b[1;32m      8\u001b[0m     \u001b[38;5;28;01mreturn\u001b[39;00m sc\u001b[38;5;241m.\u001b[39mpl\u001b[38;5;241m.\u001b[39mumap(adata, show\u001b[38;5;241m=\u001b[39m\u001b[38;5;28;01mFalse\u001b[39;00m, color\u001b[38;5;241m=\u001b[39m[\u001b[38;5;124m'\u001b[39m\u001b[38;5;124mCellType\u001b[39m\u001b[38;5;124m'\u001b[39m, \u001b[38;5;124m'\u001b[39m\u001b[38;5;124mbatchlb\u001b[39m\u001b[38;5;124m'\u001b[39m],)\n\u001b[1;32m     10\u001b[0m path \u001b[38;5;241m=\u001b[39m \u001b[38;5;124m\"\u001b[39m\u001b[38;5;124m/local/home/tomap/scAugmentBench/dimension-ablation-vol2/ImmHuman/SimSiam-128-128/128/20/embedding.npz\u001b[39m\u001b[38;5;124m\"\u001b[39m\n\u001b[0;32m---> 12\u001b[0m embedding \u001b[38;5;241m=\u001b[39m \u001b[43mnp\u001b[49m\u001b[38;5;241;43m.\u001b[39;49m\u001b[43mload\u001b[49m\u001b[43m(\u001b[49m\u001b[43mpath\u001b[49m\u001b[43m)\u001b[49m[\u001b[38;5;124m'\u001b[39m\u001b[38;5;124marr_0\u001b[39m\u001b[38;5;124m'\u001b[39m]\n\u001b[1;32m     13\u001b[0m plot_umap(adata, embedding)\n",
      "File \u001b[0;32m~/miniconda3/envs/pytorch_env/lib/python3.10/site-packages/numpy/lib/npyio.py:427\u001b[0m, in \u001b[0;36mload\u001b[0;34m(file, mmap_mode, allow_pickle, fix_imports, encoding, max_header_size)\u001b[0m\n\u001b[1;32m    425\u001b[0m     own_fid \u001b[38;5;241m=\u001b[39m \u001b[38;5;28;01mFalse\u001b[39;00m\n\u001b[1;32m    426\u001b[0m \u001b[38;5;28;01melse\u001b[39;00m:\n\u001b[0;32m--> 427\u001b[0m     fid \u001b[38;5;241m=\u001b[39m stack\u001b[38;5;241m.\u001b[39menter_context(\u001b[38;5;28;43mopen\u001b[39;49m\u001b[43m(\u001b[49m\u001b[43mos_fspath\u001b[49m\u001b[43m(\u001b[49m\u001b[43mfile\u001b[49m\u001b[43m)\u001b[49m\u001b[43m,\u001b[49m\u001b[43m \u001b[49m\u001b[38;5;124;43m\"\u001b[39;49m\u001b[38;5;124;43mrb\u001b[39;49m\u001b[38;5;124;43m\"\u001b[39;49m\u001b[43m)\u001b[49m)\n\u001b[1;32m    428\u001b[0m     own_fid \u001b[38;5;241m=\u001b[39m \u001b[38;5;28;01mTrue\u001b[39;00m\n\u001b[1;32m    430\u001b[0m \u001b[38;5;66;03m# Code to distinguish from NumPy binary files and pickles.\u001b[39;00m\n",
      "\u001b[0;31mFileNotFoundError\u001b[0m: [Errno 2] No such file or directory: '/local/home/tomap/scAugmentBench/dimension-ablation-vol2/ImmHuman/SimSiam-128-128/128/20/embedding.npz'"
     ]
    }
   ],
   "source": [
    "import scanpy as sc\n",
    "import numpy as np\n",
    "\n",
    "def plot_umap(adata, embedding):\n",
    "    adata.obsm['Embedding'] = embedding\n",
    "    sc.pp.neighbors(adata, use_rep=\"Embedding\")\n",
    "    sc.tl.umap(adata)\n",
    "    return sc.pl.umap(adata, show=False, color=['CellType', 'batchlb'],)\n",
    "\n",
    "path = \"/local/home/tomap/scAugmentBench/dimension-ablation-vol2/ImmHuman/SimSiam/128-128/20/embedding.npz\"\n",
    "\n",
    "embedding = np.load(path)['arr_0']\n",
    "plot_umap(adata, embedding)"
   ]
  },
  {
   "cell_type": "code",
   "execution_count": 119,
   "metadata": {},
   "outputs": [
    {
     "data": {
      "text/html": [
       "<div>\n",
       "<style scoped>\n",
       "    .dataframe tbody tr th:only-of-type {\n",
       "        vertical-align: middle;\n",
       "    }\n",
       "\n",
       "    .dataframe tbody tr th {\n",
       "        vertical-align: top;\n",
       "    }\n",
       "\n",
       "    .dataframe thead th {\n",
       "        text-align: right;\n",
       "    }\n",
       "</style>\n",
       "<table border=\"1\" class=\"dataframe\">\n",
       "  <thead>\n",
       "    <tr style=\"text-align: right;\">\n",
       "      <th></th>\n",
       "      <th>Isolated labels</th>\n",
       "      <th>Leiden NMI</th>\n",
       "      <th>Leiden ARI</th>\n",
       "      <th>Silhouette label</th>\n",
       "      <th>cLISI</th>\n",
       "      <th>Silhouette batch</th>\n",
       "      <th>iLISI</th>\n",
       "      <th>KBET</th>\n",
       "      <th>Graph connectivity</th>\n",
       "      <th>PCR comparison</th>\n",
       "      <th>Batch correction</th>\n",
       "      <th>Bio conservation</th>\n",
       "      <th>Total</th>\n",
       "    </tr>\n",
       "  </thead>\n",
       "  <tbody>\n",
       "    <tr>\n",
       "      <th>BarlowTwins</th>\n",
       "      <td>0.4667</td>\n",
       "      <td>0.5337</td>\n",
       "      <td>0.4380</td>\n",
       "      <td>0.5090</td>\n",
       "      <td>0.9790</td>\n",
       "      <td>0.8275</td>\n",
       "      <td>0.1083</td>\n",
       "      <td>0.1153</td>\n",
       "      <td>0.7149</td>\n",
       "      <td>0.9902</td>\n",
       "      <td>0.5512</td>\n",
       "      <td>0.5853</td>\n",
       "      <td>0.5717</td>\n",
       "    </tr>\n",
       "    <tr>\n",
       "      <th>BYOL</th>\n",
       "      <td>0.5415</td>\n",
       "      <td>0.5529</td>\n",
       "      <td>0.4392</td>\n",
       "      <td>0.5058</td>\n",
       "      <td>0.9849</td>\n",
       "      <td>0.8539</td>\n",
       "      <td>0.1702</td>\n",
       "      <td>0.1890</td>\n",
       "      <td>0.8168</td>\n",
       "      <td>0.9957</td>\n",
       "      <td>0.6051</td>\n",
       "      <td>0.6048</td>\n",
       "      <td>0.6049</td>\n",
       "    </tr>\n",
       "    <tr>\n",
       "      <th>SimSiam</th>\n",
       "      <td>0.4490</td>\n",
       "      <td>0.4125</td>\n",
       "      <td>0.2587</td>\n",
       "      <td>0.4294</td>\n",
       "      <td>0.9498</td>\n",
       "      <td>0.7674</td>\n",
       "      <td>0.0467</td>\n",
       "      <td>0.0499</td>\n",
       "      <td>0.3877</td>\n",
       "      <td>0.9996</td>\n",
       "      <td>0.4502</td>\n",
       "      <td>0.4999</td>\n",
       "      <td>0.4800</td>\n",
       "    </tr>\n",
       "    <tr>\n",
       "      <th>NNCLR</th>\n",
       "      <td>0.4989</td>\n",
       "      <td>0.5581</td>\n",
       "      <td>0.4676</td>\n",
       "      <td>0.4858</td>\n",
       "      <td>0.9792</td>\n",
       "      <td>0.8426</td>\n",
       "      <td>0.1510</td>\n",
       "      <td>0.0994</td>\n",
       "      <td>0.7577</td>\n",
       "      <td>0.9996</td>\n",
       "      <td>0.5701</td>\n",
       "      <td>0.5979</td>\n",
       "      <td>0.5868</td>\n",
       "    </tr>\n",
       "    <tr>\n",
       "      <th>MoCo</th>\n",
       "      <td>0.5935</td>\n",
       "      <td>0.7310</td>\n",
       "      <td>0.6623</td>\n",
       "      <td>0.5705</td>\n",
       "      <td>0.9988</td>\n",
       "      <td>0.8514</td>\n",
       "      <td>0.0818</td>\n",
       "      <td>0.0751</td>\n",
       "      <td>0.9060</td>\n",
       "      <td>0.9499</td>\n",
       "      <td>0.5728</td>\n",
       "      <td>0.7112</td>\n",
       "      <td>0.6559</td>\n",
       "    </tr>\n",
       "    <tr>\n",
       "      <th>SimCLR</th>\n",
       "      <td>0.5634</td>\n",
       "      <td>0.6824</td>\n",
       "      <td>0.6604</td>\n",
       "      <td>0.5312</td>\n",
       "      <td>0.9963</td>\n",
       "      <td>0.8625</td>\n",
       "      <td>0.1494</td>\n",
       "      <td>0.0788</td>\n",
       "      <td>0.8381</td>\n",
       "      <td>0.9994</td>\n",
       "      <td>0.5856</td>\n",
       "      <td>0.6867</td>\n",
       "      <td>0.6463</td>\n",
       "    </tr>\n",
       "    <tr>\n",
       "      <th>VICReg</th>\n",
       "      <td>0.5312</td>\n",
       "      <td>0.6316</td>\n",
       "      <td>0.5455</td>\n",
       "      <td>0.5166</td>\n",
       "      <td>0.9827</td>\n",
       "      <td>0.8333</td>\n",
       "      <td>0.1503</td>\n",
       "      <td>0.0714</td>\n",
       "      <td>0.8069</td>\n",
       "      <td>0.9949</td>\n",
       "      <td>0.5714</td>\n",
       "      <td>0.6415</td>\n",
       "      <td>0.6134</td>\n",
       "    </tr>\n",
       "  </tbody>\n",
       "</table>\n",
       "</div>"
      ],
      "text/plain": [
       "             Isolated labels  Leiden NMI  Leiden ARI  Silhouette label  \\\n",
       "BarlowTwins           0.4667      0.5337      0.4380            0.5090   \n",
       "BYOL                  0.5415      0.5529      0.4392            0.5058   \n",
       "SimSiam               0.4490      0.4125      0.2587            0.4294   \n",
       "NNCLR                 0.4989      0.5581      0.4676            0.4858   \n",
       "MoCo                  0.5935      0.7310      0.6623            0.5705   \n",
       "SimCLR                0.5634      0.6824      0.6604            0.5312   \n",
       "VICReg                0.5312      0.6316      0.5455            0.5166   \n",
       "\n",
       "              cLISI  Silhouette batch   iLISI    KBET  Graph connectivity  \\\n",
       "BarlowTwins  0.9790            0.8275  0.1083  0.1153              0.7149   \n",
       "BYOL         0.9849            0.8539  0.1702  0.1890              0.8168   \n",
       "SimSiam      0.9498            0.7674  0.0467  0.0499              0.3877   \n",
       "NNCLR        0.9792            0.8426  0.1510  0.0994              0.7577   \n",
       "MoCo         0.9988            0.8514  0.0818  0.0751              0.9060   \n",
       "SimCLR       0.9963            0.8625  0.1494  0.0788              0.8381   \n",
       "VICReg       0.9827            0.8333  0.1503  0.0714              0.8069   \n",
       "\n",
       "             PCR comparison  Batch correction  Bio conservation   Total  \n",
       "BarlowTwins          0.9902            0.5512            0.5853  0.5717  \n",
       "BYOL                 0.9957            0.6051            0.6048  0.6049  \n",
       "SimSiam              0.9996            0.4502            0.4999  0.4800  \n",
       "NNCLR                0.9996            0.5701            0.5979  0.5868  \n",
       "MoCo                 0.9499            0.5728            0.7112  0.6559  \n",
       "SimCLR               0.9994            0.5856            0.6867  0.6463  \n",
       "VICReg               0.9949            0.5714            0.6415  0.6134  "
      ]
     },
     "execution_count": 119,
     "metadata": {},
     "output_type": "execute_result"
    }
   ],
   "source": [
    "from evaluator import collect_runs, unify_table, scale_table\n",
    "\n"
   ]
  },
  {
   "cell_type": "code",
   "execution_count": 14,
   "metadata": {},
   "outputs": [
    {
     "name": "stdout",
     "output_type": "stream",
     "text": [
      "Min num seeds: 6.\n",
      "Max num seeds: 6.\n",
      "Min num seeds: 6.\n",
      "Max num seeds: 6.\n",
      "Min num seeds: 2.\n",
      "Max num seeds: 3.\n",
      "Min num seeds: 2.\n",
      "Max num seeds: 3.\n",
      "Min num seeds: 6.\n",
      "Max num seeds: 6.\n",
      "Min num seeds: 6.\n",
      "Max num seeds: 6.\n",
      "Min num seeds: 6.\n",
      "Max num seeds: 6.\n",
      "Min num seeds: 6.\n",
      "Max num seeds: 6.\n",
      "Min num seeds: 6.\n",
      "Max num seeds: 6.\n",
      "Min num seeds: 2.\n",
      "Max num seeds: 3.\n",
      "Min num seeds: 2.\n",
      "Max num seeds: 3.\n",
      "Min num seeds: 6.\n",
      "Max num seeds: 6.\n",
      "Min num seeds: 6.\n",
      "Max num seeds: 6.\n",
      "Min num seeds: 6.\n",
      "Max num seeds: 6.\n"
     ]
    }
   ],
   "source": [
    "from evaluator import get_best_params, scale_table\n",
    "\n",
    "final_pbmc = get_best_params(dirname=\"dimension-ablation-vol2\", dname=\"PBMC-2D\")\n",
    "final_immune = get_best_params(dirname=\"dimension-ablation-vol2\", dname=\"ImmHuman\")\n",
    "\n",
    "scaled_pbmc = scale_table(final_pbmc.copy())\n",
    "scaled_immune = scale_table(final_immune.copy())"
   ]
  },
  {
   "cell_type": "code",
   "execution_count": 21,
   "metadata": {},
   "outputs": [
    {
     "name": "stdout",
     "output_type": "stream",
     "text": [
      "Top-10 Immune Models:\n",
      "['MoCo-16', 'SimCLR-128', 'MoCo-32', 'MoCo-64', 'SimCLR-64', 'MoCo-128', 'SimCLR-32', 'SimSiam-128-128', 'SimCLR-16', 'NNCLR-128-64']\n",
      "Top-10 PBMC Models:\n",
      "['SimCLR-128', 'SimCLR-64', 'MoCo-64', 'MoCo-32', 'MoCo-128', 'SimCLR-32', 'SimCLR-16', 'MoCo-16', 'VICReg-128', 'VICReg-64']\n"
     ]
    }
   ],
   "source": [
    "#scaled.sort_values(\"Batch correction\")\n",
    "#scaled.sort_values(\"Bio conservation\")\n",
    "top10_pbmc = scaled_pbmc.sort_values(\"Total\", ascending=False).index[:10]\n",
    "top10_immune = scaled_immune.sort_values(\"Total\", ascending=False).index[:10]\n",
    "\n",
    "print(f\"Top-10 Immune Models:\\n{list(top10_immune)}\")\n",
    "print(f\"Top-10 PBMC Models:\\n{list(top10_pbmc)}\")"
   ]
  },
  {
   "cell_type": "markdown",
   "metadata": {},
   "source": [
    "## DEBUG"
   ]
  },
  {
   "cell_type": "code",
   "execution_count": 216,
   "metadata": {},
   "outputs": [
    {
     "ename": "FileNotFoundError",
     "evalue": "[Errno 2] No such file or directory: '/local/home/tomap/scAugmentBench/dimension-ablation-vol2/PBMC-2D/SimSiam/16-32/20/embedding.npz'",
     "output_type": "error",
     "traceback": [
      "\u001b[0;31m---------------------------------------------------------------------------\u001b[0m",
      "\u001b[0;31mFileNotFoundError\u001b[0m                         Traceback (most recent call last)",
      "Cell \u001b[0;32mIn[216], line 5\u001b[0m\n\u001b[1;32m      3\u001b[0m \u001b[38;5;28;01massert\u001b[39;00m cfg[\u001b[38;5;124m'\u001b[39m\u001b[38;5;124mdata\u001b[39m\u001b[38;5;124m'\u001b[39m][\u001b[38;5;124m'\u001b[39m\u001b[38;5;124mdname\u001b[39m\u001b[38;5;124m'\u001b[39m] \u001b[38;5;241m==\u001b[39m \u001b[38;5;124m\"\u001b[39m\u001b[38;5;124mPBMC-2D\u001b[39m\u001b[38;5;124m\"\u001b[39m, \u001b[38;5;124m\"\u001b[39m\u001b[38;5;124mWrong adata object is loaded atm.\u001b[39m\u001b[38;5;124m\"\u001b[39m\n\u001b[1;32m      4\u001b[0m path \u001b[38;5;241m=\u001b[39m \u001b[38;5;124m\"\u001b[39m\u001b[38;5;124m/local/home/tomap/scAugmentBench/dimension-ablation-vol2/PBMC-2D/SimSiam/16-32/20/\u001b[39m\u001b[38;5;124m\"\u001b[39m\n\u001b[0;32m----> 5\u001b[0m emb \u001b[38;5;241m=\u001b[39m \u001b[43mnp\u001b[49m\u001b[38;5;241;43m.\u001b[39;49m\u001b[43mload\u001b[49m\u001b[43m(\u001b[49m\u001b[43mos\u001b[49m\u001b[38;5;241;43m.\u001b[39;49m\u001b[43mpath\u001b[49m\u001b[38;5;241;43m.\u001b[39;49m\u001b[43mjoin\u001b[49m\u001b[43m(\u001b[49m\u001b[43mpath\u001b[49m\u001b[43m,\u001b[49m\u001b[43m \u001b[49m\u001b[38;5;124;43m\"\u001b[39;49m\u001b[38;5;124;43membedding.npz\u001b[39;49m\u001b[38;5;124;43m\"\u001b[39;49m\u001b[43m)\u001b[49m\u001b[43m)\u001b[49m[\u001b[38;5;124m'\u001b[39m\u001b[38;5;124marr_0\u001b[39m\u001b[38;5;124m'\u001b[39m]\n\u001b[1;32m      6\u001b[0m results \u001b[38;5;241m=\u001b[39m recalculate_results(adata, emb, \u001b[38;5;241m1\u001b[39m, \u001b[38;5;28;01mNone\u001b[39;00m)\n",
      "File \u001b[0;32m~/miniconda3/envs/pytorch_env/lib/python3.10/site-packages/numpy/lib/npyio.py:427\u001b[0m, in \u001b[0;36mload\u001b[0;34m(file, mmap_mode, allow_pickle, fix_imports, encoding, max_header_size)\u001b[0m\n\u001b[1;32m    425\u001b[0m     own_fid \u001b[38;5;241m=\u001b[39m \u001b[38;5;28;01mFalse\u001b[39;00m\n\u001b[1;32m    426\u001b[0m \u001b[38;5;28;01melse\u001b[39;00m:\n\u001b[0;32m--> 427\u001b[0m     fid \u001b[38;5;241m=\u001b[39m stack\u001b[38;5;241m.\u001b[39menter_context(\u001b[38;5;28;43mopen\u001b[39;49m\u001b[43m(\u001b[49m\u001b[43mos_fspath\u001b[49m\u001b[43m(\u001b[49m\u001b[43mfile\u001b[49m\u001b[43m)\u001b[49m\u001b[43m,\u001b[49m\u001b[43m \u001b[49m\u001b[38;5;124;43m\"\u001b[39;49m\u001b[38;5;124;43mrb\u001b[39;49m\u001b[38;5;124;43m\"\u001b[39;49m\u001b[43m)\u001b[49m)\n\u001b[1;32m    428\u001b[0m     own_fid \u001b[38;5;241m=\u001b[39m \u001b[38;5;28;01mTrue\u001b[39;00m\n\u001b[1;32m    430\u001b[0m \u001b[38;5;66;03m# Code to distinguish from NumPy binary files and pickles.\u001b[39;00m\n",
      "\u001b[0;31mFileNotFoundError\u001b[0m: [Errno 2] No such file or directory: '/local/home/tomap/scAugmentBench/dimension-ablation-vol2/PBMC-2D/SimSiam/16-32/20/embedding.npz'"
     ]
    }
   ],
   "source": [
    "from evaluator import recalculate_results\n",
    "\n",
    "assert cfg['data']['dname'] == \"PBMC-2D\", \"Wrong adata object is loaded atm.\"\n",
    "path = \"/local/home/tomap/scAugmentBench/dimension-ablation-vol2/PBMC-2D/SimSiam/16-32/20/\"\n",
    "emb = np.load(os.path.join(path, \"embedding.npz\"))['arr_0']\n",
    "results = recalculate_results(adata, emb, 1, None)\n"
   ]
  },
  {
   "cell_type": "code",
   "execution_count": 182,
   "metadata": {},
   "outputs": [],
   "source": [
    "results.to_csv(os.path.join(path, 'evaluation_metrics.csv'), index=None)"
   ]
  },
  {
   "cell_type": "code",
   "execution_count": 69,
   "metadata": {},
   "outputs": [
    {
     "ename": "KeyError",
     "evalue": "\"['Embedding'] not found in axis\"",
     "output_type": "error",
     "traceback": [
      "\u001b[0;31m---------------------------------------------------------------------------\u001b[0m",
      "\u001b[0;31mKeyError\u001b[0m                                  Traceback (most recent call last)",
      "Cell \u001b[0;32mIn[69], line 1\u001b[0m\n\u001b[0;32m----> 1\u001b[0m \u001b[43mresults\u001b[49m\u001b[38;5;241;43m.\u001b[39;49m\u001b[43mdrop\u001b[49m\u001b[43m(\u001b[49m\u001b[43mcolumns\u001b[49m\u001b[38;5;241;43m=\u001b[39;49m\u001b[43m[\u001b[49m\u001b[38;5;124;43m\"\u001b[39;49m\u001b[38;5;124;43mEmbedding\u001b[39;49m\u001b[38;5;124;43m\"\u001b[39;49m\u001b[43m]\u001b[49m\u001b[43m)\u001b[49m\u001b[38;5;241m.\u001b[39mto_csv(os\u001b[38;5;241m.\u001b[39mpath\u001b[38;5;241m.\u001b[39mjoin(path, \u001b[38;5;124m'\u001b[39m\u001b[38;5;124mevaluation_metrics.csv\u001b[39m\u001b[38;5;124m'\u001b[39m), index\u001b[38;5;241m=\u001b[39m\u001b[38;5;28;01mNone\u001b[39;00m)\n",
      "File \u001b[0;32m~/miniconda3/envs/pytorch_env/lib/python3.10/site-packages/pandas/core/frame.py:5568\u001b[0m, in \u001b[0;36mDataFrame.drop\u001b[0;34m(self, labels, axis, index, columns, level, inplace, errors)\u001b[0m\n\u001b[1;32m   5420\u001b[0m \u001b[38;5;28;01mdef\u001b[39;00m \u001b[38;5;21mdrop\u001b[39m(\n\u001b[1;32m   5421\u001b[0m     \u001b[38;5;28mself\u001b[39m,\n\u001b[1;32m   5422\u001b[0m     labels: IndexLabel \u001b[38;5;241m|\u001b[39m \u001b[38;5;28;01mNone\u001b[39;00m \u001b[38;5;241m=\u001b[39m \u001b[38;5;28;01mNone\u001b[39;00m,\n\u001b[0;32m   (...)\u001b[0m\n\u001b[1;32m   5429\u001b[0m     errors: IgnoreRaise \u001b[38;5;241m=\u001b[39m \u001b[38;5;124m\"\u001b[39m\u001b[38;5;124mraise\u001b[39m\u001b[38;5;124m\"\u001b[39m,\n\u001b[1;32m   5430\u001b[0m ) \u001b[38;5;241m-\u001b[39m\u001b[38;5;241m>\u001b[39m DataFrame \u001b[38;5;241m|\u001b[39m \u001b[38;5;28;01mNone\u001b[39;00m:\n\u001b[1;32m   5431\u001b[0m \u001b[38;5;250m    \u001b[39m\u001b[38;5;124;03m\"\"\"\u001b[39;00m\n\u001b[1;32m   5432\u001b[0m \u001b[38;5;124;03m    Drop specified labels from rows or columns.\u001b[39;00m\n\u001b[1;32m   5433\u001b[0m \n\u001b[0;32m   (...)\u001b[0m\n\u001b[1;32m   5566\u001b[0m \u001b[38;5;124;03m            weight  1.0     0.8\u001b[39;00m\n\u001b[1;32m   5567\u001b[0m \u001b[38;5;124;03m    \"\"\"\u001b[39;00m\n\u001b[0;32m-> 5568\u001b[0m     \u001b[38;5;28;01mreturn\u001b[39;00m \u001b[38;5;28;43msuper\u001b[39;49m\u001b[43m(\u001b[49m\u001b[43m)\u001b[49m\u001b[38;5;241;43m.\u001b[39;49m\u001b[43mdrop\u001b[49m\u001b[43m(\u001b[49m\n\u001b[1;32m   5569\u001b[0m \u001b[43m        \u001b[49m\u001b[43mlabels\u001b[49m\u001b[38;5;241;43m=\u001b[39;49m\u001b[43mlabels\u001b[49m\u001b[43m,\u001b[49m\n\u001b[1;32m   5570\u001b[0m \u001b[43m        \u001b[49m\u001b[43maxis\u001b[49m\u001b[38;5;241;43m=\u001b[39;49m\u001b[43maxis\u001b[49m\u001b[43m,\u001b[49m\n\u001b[1;32m   5571\u001b[0m \u001b[43m        \u001b[49m\u001b[43mindex\u001b[49m\u001b[38;5;241;43m=\u001b[39;49m\u001b[43mindex\u001b[49m\u001b[43m,\u001b[49m\n\u001b[1;32m   5572\u001b[0m \u001b[43m        \u001b[49m\u001b[43mcolumns\u001b[49m\u001b[38;5;241;43m=\u001b[39;49m\u001b[43mcolumns\u001b[49m\u001b[43m,\u001b[49m\n\u001b[1;32m   5573\u001b[0m \u001b[43m        \u001b[49m\u001b[43mlevel\u001b[49m\u001b[38;5;241;43m=\u001b[39;49m\u001b[43mlevel\u001b[49m\u001b[43m,\u001b[49m\n\u001b[1;32m   5574\u001b[0m \u001b[43m        \u001b[49m\u001b[43minplace\u001b[49m\u001b[38;5;241;43m=\u001b[39;49m\u001b[43minplace\u001b[49m\u001b[43m,\u001b[49m\n\u001b[1;32m   5575\u001b[0m \u001b[43m        \u001b[49m\u001b[43merrors\u001b[49m\u001b[38;5;241;43m=\u001b[39;49m\u001b[43merrors\u001b[49m\u001b[43m,\u001b[49m\n\u001b[1;32m   5576\u001b[0m \u001b[43m    \u001b[49m\u001b[43m)\u001b[49m\n",
      "File \u001b[0;32m~/miniconda3/envs/pytorch_env/lib/python3.10/site-packages/pandas/core/generic.py:4782\u001b[0m, in \u001b[0;36mNDFrame.drop\u001b[0;34m(self, labels, axis, index, columns, level, inplace, errors)\u001b[0m\n\u001b[1;32m   4780\u001b[0m \u001b[38;5;28;01mfor\u001b[39;00m axis, labels \u001b[38;5;129;01min\u001b[39;00m axes\u001b[38;5;241m.\u001b[39mitems():\n\u001b[1;32m   4781\u001b[0m     \u001b[38;5;28;01mif\u001b[39;00m labels \u001b[38;5;129;01mis\u001b[39;00m \u001b[38;5;129;01mnot\u001b[39;00m \u001b[38;5;28;01mNone\u001b[39;00m:\n\u001b[0;32m-> 4782\u001b[0m         obj \u001b[38;5;241m=\u001b[39m \u001b[43mobj\u001b[49m\u001b[38;5;241;43m.\u001b[39;49m\u001b[43m_drop_axis\u001b[49m\u001b[43m(\u001b[49m\u001b[43mlabels\u001b[49m\u001b[43m,\u001b[49m\u001b[43m \u001b[49m\u001b[43maxis\u001b[49m\u001b[43m,\u001b[49m\u001b[43m \u001b[49m\u001b[43mlevel\u001b[49m\u001b[38;5;241;43m=\u001b[39;49m\u001b[43mlevel\u001b[49m\u001b[43m,\u001b[49m\u001b[43m \u001b[49m\u001b[43merrors\u001b[49m\u001b[38;5;241;43m=\u001b[39;49m\u001b[43merrors\u001b[49m\u001b[43m)\u001b[49m\n\u001b[1;32m   4784\u001b[0m \u001b[38;5;28;01mif\u001b[39;00m inplace:\n\u001b[1;32m   4785\u001b[0m     \u001b[38;5;28mself\u001b[39m\u001b[38;5;241m.\u001b[39m_update_inplace(obj)\n",
      "File \u001b[0;32m~/miniconda3/envs/pytorch_env/lib/python3.10/site-packages/pandas/core/generic.py:4824\u001b[0m, in \u001b[0;36mNDFrame._drop_axis\u001b[0;34m(self, labels, axis, level, errors, only_slice)\u001b[0m\n\u001b[1;32m   4822\u001b[0m         new_axis \u001b[38;5;241m=\u001b[39m axis\u001b[38;5;241m.\u001b[39mdrop(labels, level\u001b[38;5;241m=\u001b[39mlevel, errors\u001b[38;5;241m=\u001b[39merrors)\n\u001b[1;32m   4823\u001b[0m     \u001b[38;5;28;01melse\u001b[39;00m:\n\u001b[0;32m-> 4824\u001b[0m         new_axis \u001b[38;5;241m=\u001b[39m \u001b[43maxis\u001b[49m\u001b[38;5;241;43m.\u001b[39;49m\u001b[43mdrop\u001b[49m\u001b[43m(\u001b[49m\u001b[43mlabels\u001b[49m\u001b[43m,\u001b[49m\u001b[43m \u001b[49m\u001b[43merrors\u001b[49m\u001b[38;5;241;43m=\u001b[39;49m\u001b[43merrors\u001b[49m\u001b[43m)\u001b[49m\n\u001b[1;32m   4825\u001b[0m     indexer \u001b[38;5;241m=\u001b[39m axis\u001b[38;5;241m.\u001b[39mget_indexer(new_axis)\n\u001b[1;32m   4827\u001b[0m \u001b[38;5;66;03m# Case for non-unique axis\u001b[39;00m\n\u001b[1;32m   4828\u001b[0m \u001b[38;5;28;01melse\u001b[39;00m:\n",
      "File \u001b[0;32m~/miniconda3/envs/pytorch_env/lib/python3.10/site-packages/pandas/core/indexes/base.py:7069\u001b[0m, in \u001b[0;36mIndex.drop\u001b[0;34m(self, labels, errors)\u001b[0m\n\u001b[1;32m   7067\u001b[0m \u001b[38;5;28;01mif\u001b[39;00m mask\u001b[38;5;241m.\u001b[39many():\n\u001b[1;32m   7068\u001b[0m     \u001b[38;5;28;01mif\u001b[39;00m errors \u001b[38;5;241m!=\u001b[39m \u001b[38;5;124m\"\u001b[39m\u001b[38;5;124mignore\u001b[39m\u001b[38;5;124m\"\u001b[39m:\n\u001b[0;32m-> 7069\u001b[0m         \u001b[38;5;28;01mraise\u001b[39;00m \u001b[38;5;167;01mKeyError\u001b[39;00m(\u001b[38;5;124mf\u001b[39m\u001b[38;5;124m\"\u001b[39m\u001b[38;5;132;01m{\u001b[39;00mlabels[mask]\u001b[38;5;241m.\u001b[39mtolist()\u001b[38;5;132;01m}\u001b[39;00m\u001b[38;5;124m not found in axis\u001b[39m\u001b[38;5;124m\"\u001b[39m)\n\u001b[1;32m   7070\u001b[0m     indexer \u001b[38;5;241m=\u001b[39m indexer[\u001b[38;5;241m~\u001b[39mmask]\n\u001b[1;32m   7071\u001b[0m \u001b[38;5;28;01mreturn\u001b[39;00m \u001b[38;5;28mself\u001b[39m\u001b[38;5;241m.\u001b[39mdelete(indexer)\n",
      "\u001b[0;31mKeyError\u001b[0m: \"['Embedding'] not found in axis\""
     ]
    }
   ],
   "source": [
    "#results.drop(columns=[\"Embedding\"]).to_csv(os.path.join(path, 'evaluation_metrics.csv'), index=None)"
   ]
  }
 ],
 "metadata": {
  "kernelspec": {
   "display_name": "pytorch_env",
   "language": "python",
   "name": "python3"
  },
  "language_info": {
   "codemirror_mode": {
    "name": "ipython",
    "version": 3
   },
   "file_extension": ".py",
   "mimetype": "text/x-python",
   "name": "python",
   "nbconvert_exporter": "python",
   "pygments_lexer": "ipython3",
   "version": "3.10.13"
  }
 },
 "nbformat": 4,
 "nbformat_minor": 2
}
